{
 "cells": [
  {
   "cell_type": "markdown",
   "metadata": {},
   "source": [
    "### Importing useful Libraries"
   ]
  },
  {
   "cell_type": "code",
   "execution_count": 2,
   "metadata": {},
   "outputs": [],
   "source": [
    "import pandas as pd\n",
    "from textblob import TextBlob\n",
    "import nltk\n",
    "from nltk.tokenize import word_tokenize\n",
    "from nltk.corpus import stopwords\n",
    "from collections import Counter\n",
    "from nltk.stem import PorterStemmer\n",
    "import seaborn as sns\n",
    "import matplotlib.pylab as plt\n"
   ]
  },
  {
   "cell_type": "markdown",
   "metadata": {},
   "source": [
    "### Downloading NLTK data files"
   ]
  },
  {
   "cell_type": "code",
   "execution_count": 3,
   "metadata": {},
   "outputs": [
    {
     "name": "stderr",
     "output_type": "stream",
     "text": [
      "[nltk_data] Downloading package punkt to\n",
      "[nltk_data]     C:\\Users\\Admin\\AppData\\Roaming\\nltk_data...\n",
      "[nltk_data]   Package punkt is already up-to-date!\n",
      "[nltk_data] Downloading package stopwords to\n",
      "[nltk_data]     C:\\Users\\Admin\\AppData\\Roaming\\nltk_data...\n",
      "[nltk_data]   Package stopwords is already up-to-date!\n"
     ]
    },
    {
     "data": {
      "text/plain": [
       "True"
      ]
     },
     "execution_count": 3,
     "metadata": {},
     "output_type": "execute_result"
    }
   ],
   "source": [
    "nltk.download('punkt')\n",
    "nltk.download('stopwords')"
   ]
  },
  {
   "cell_type": "markdown",
   "metadata": {},
   "source": [
    "### Loading data"
   ]
  },
  {
   "cell_type": "code",
   "execution_count": 5,
   "metadata": {},
   "outputs": [],
   "source": [
    "df_news = pd.read_csv('../Data/raw_analyst_ratings.csv')\n",
    "headlines = df_news['headline']"
   ]
  },
  {
   "cell_type": "markdown",
   "metadata": {},
   "source": [
    "### Stemming and Stop word Removing"
   ]
  },
  {
   "cell_type": "code",
   "execution_count": 6,
   "metadata": {},
   "outputs": [],
   "source": [
    "# Initialize the PorterStemmer\n",
    "ps = PorterStemmer()\n",
    "\n",
    "# Define a function to clean and process the text\n",
    "def preprocess_text(text):\n",
    "    # Convert text to lowercase\n",
    "    text = text.lower()\n",
    "    \n",
    "    # Remove stop words\n",
    "    stop_words = set(stopwords.words('english'))\n",
    "    words = text.split()\n",
    "    words = [word for word in words if word not in stop_words]\n",
    "    \n",
    "    # Perform stemming\n",
    "    words = [ps.stem(word) for word in words]\n",
    "    \n",
    "    # Rejoin the words into a single string\n",
    "    processed_text = ' '.join(words)\n",
    "    return processed_text"
   ]
  },
  {
   "cell_type": "markdown",
   "metadata": {},
   "source": [
    "# Sentiment Analysis with TextBlob"
   ]
  },
  {
   "cell_type": "code",
   "execution_count": 7,
   "metadata": {},
   "outputs": [],
   "source": [
    "# Define a function to calculate sentiment\n",
    "def calculate_sentiment(text):\n",
    "    return TextBlob(text).sentiment.polarity"
   ]
  },
  {
   "cell_type": "markdown",
   "metadata": {},
   "source": [
    "### Applying the Functions to the DataFrame"
   ]
  },
  {
   "cell_type": "code",
   "execution_count": 48,
   "metadata": {},
   "outputs": [
    {
     "name": "stderr",
     "output_type": "stream",
     "text": [
      "C:\\Users\\Admin\\AppData\\Local\\Temp\\ipykernel_15656\\2764048879.py:8: SettingWithCopyWarning: \n",
      "A value is trying to be set on a copy of a slice from a DataFrame.\n",
      "Try using .loc[row_indexer,col_indexer] = value instead\n",
      "\n",
      "See the caveats in the documentation: https://pandas.pydata.org/pandas-docs/stable/user_guide/indexing.html#returning-a-view-versus-a-copy\n",
      "  df_news_filtered['cleaned_headline'] = df_news_filtered['headline'].apply(preprocess_text)\n",
      "C:\\Users\\Admin\\AppData\\Local\\Temp\\ipykernel_15656\\2764048879.py:9: SettingWithCopyWarning: \n",
      "A value is trying to be set on a copy of a slice from a DataFrame.\n",
      "Try using .loc[row_indexer,col_indexer] = value instead\n",
      "\n",
      "See the caveats in the documentation: https://pandas.pydata.org/pandas-docs/stable/user_guide/indexing.html#returning-a-view-versus-a-copy\n",
      "  df_news_filtered['sentiment'] = df_news_filtered['cleaned_headline'].apply(calculate_sentiment)\n"
     ]
    }
   ],
   "source": [
    "# List of stock symbols for filtering\n",
    "stock_symbols = ['AAPL', 'AMZN', 'GOOGL', 'MSFT', 'META', 'NVDA', 'TSLA']\n",
    "\n",
    "# Filter rows where the stock symbol is in the specified list\n",
    "df_news_filtered = df_news[df_news['stock'].isin(stock_symbols)]\n",
    "\n",
    "# Apply text preprocessing and sentiment analysis to the filtered DataFrame\n",
    "df_news_filtered['cleaned_headline'] = df_news_filtered['headline'].apply(preprocess_text)\n",
    "df_news_filtered['sentiment'] = df_news_filtered['cleaned_headline'].apply(calculate_sentiment)\n",
    "\n",
    "# Update the original DataFrame with the processed data\n",
    "df_news.update(df_news_filtered)\n"
   ]
  },
  {
   "cell_type": "markdown",
   "metadata": {},
   "source": [
    "### Separate Date and Time"
   ]
  },
  {
   "cell_type": "code",
   "execution_count": 76,
   "metadata": {},
   "outputs": [],
   "source": [
    "# Convert the 'date' column to datetime format with ISO8601 and set timezone to UTC\n",
    "df_news_filtered['date'] = pd.to_datetime(df_news_filtered['date'], format='%Y-%m-%d %H:%M:%S', utc=True, errors='coerce')\n",
    "\n",
    "# Extract the date and time into separate columns\n",
    "df_news_filtered['date_only'] = df_news_filtered['date'].dt.date\n",
    "df_news_filtered['time_only'] = df_news_filtered['date'].dt.time\n",
    "\n",
    "# Drop rows with invalid datetime entries if necessary\n",
    "df_news_filtered = df_news_filtered.dropna(subset=['date'])"
   ]
  },
  {
   "cell_type": "code",
   "execution_count": 77,
   "metadata": {},
   "outputs": [
    {
     "data": {
      "text/html": [
       "<div>\n",
       "<style scoped>\n",
       "    .dataframe tbody tr th:only-of-type {\n",
       "        vertical-align: middle;\n",
       "    }\n",
       "\n",
       "    .dataframe tbody tr th {\n",
       "        vertical-align: top;\n",
       "    }\n",
       "\n",
       "    .dataframe thead th {\n",
       "        text-align: right;\n",
       "    }\n",
       "</style>\n",
       "<table border=\"1\" class=\"dataframe\">\n",
       "  <thead>\n",
       "    <tr style=\"text-align: right;\">\n",
       "      <th></th>\n",
       "      <th>Unnamed: 0</th>\n",
       "      <th>headline</th>\n",
       "      <th>url</th>\n",
       "      <th>publisher</th>\n",
       "      <th>date</th>\n",
       "      <th>stock</th>\n",
       "      <th>cleaned_headline</th>\n",
       "      <th>sentiment</th>\n",
       "      <th>time</th>\n",
       "      <th>date_only</th>\n",
       "      <th>time_only</th>\n",
       "    </tr>\n",
       "  </thead>\n",
       "  <tbody>\n",
       "    <tr>\n",
       "      <th>6680</th>\n",
       "      <td>7120</td>\n",
       "      <td>Tech Stocks And FAANGS Strong Again To Start D...</td>\n",
       "      <td>https://www.benzinga.com/government/20/06/1622...</td>\n",
       "      <td>JJ Kinahan</td>\n",
       "      <td>2020-06-10 00:00:00+00:00</td>\n",
       "      <td>AAPL</td>\n",
       "      <td>tech stock faang strong start day market await...</td>\n",
       "      <td>0.433333</td>\n",
       "      <td>11:33:26</td>\n",
       "      <td>2020-06-10</td>\n",
       "      <td>00:00:00</td>\n",
       "    </tr>\n",
       "    <tr>\n",
       "      <th>6681</th>\n",
       "      <td>7121</td>\n",
       "      <td>10 Biggest Price Target Changes For Wednesday</td>\n",
       "      <td>https://www.benzinga.com/analyst-ratings/price...</td>\n",
       "      <td>Lisa Levin</td>\n",
       "      <td>2020-06-10 00:00:00+00:00</td>\n",
       "      <td>AAPL</td>\n",
       "      <td>10 biggest price target chang wednesday</td>\n",
       "      <td>0.000000</td>\n",
       "      <td>08:14:08</td>\n",
       "      <td>2020-06-10</td>\n",
       "      <td>00:00:00</td>\n",
       "    </tr>\n",
       "    <tr>\n",
       "      <th>6682</th>\n",
       "      <td>7122</td>\n",
       "      <td>Benzinga Pro's Top 5 Stocks To Watch For Wed.,...</td>\n",
       "      <td>https://www.benzinga.com/short-sellers/20/06/1...</td>\n",
       "      <td>Benzinga Newsdesk</td>\n",
       "      <td>2020-06-10 00:00:00+00:00</td>\n",
       "      <td>AAPL</td>\n",
       "      <td>benzinga pro' top 5 stock watch wed., jun. 10,...</td>\n",
       "      <td>0.500000</td>\n",
       "      <td>07:53:47</td>\n",
       "      <td>2020-06-10</td>\n",
       "      <td>00:00:00</td>\n",
       "    </tr>\n",
       "    <tr>\n",
       "      <th>6683</th>\n",
       "      <td>7123</td>\n",
       "      <td>Deutsche Bank Maintains Buy on Apple, Raises P...</td>\n",
       "      <td>https://www.benzinga.com/news/20/06/16219873/d...</td>\n",
       "      <td>Benzinga Newsdesk</td>\n",
       "      <td>2020-06-10 00:00:00+00:00</td>\n",
       "      <td>AAPL</td>\n",
       "      <td>deutsch bank maintain buy apple, rais price ta...</td>\n",
       "      <td>0.000000</td>\n",
       "      <td>07:19:25</td>\n",
       "      <td>2020-06-10</td>\n",
       "      <td>00:00:00</td>\n",
       "    </tr>\n",
       "    <tr>\n",
       "      <th>6684</th>\n",
       "      <td>7124</td>\n",
       "      <td>Apple To Let Users Trade In Their Mac Computer...</td>\n",
       "      <td>https://www.benzinga.com/news/20/06/16218697/a...</td>\n",
       "      <td>Neer Varshney</td>\n",
       "      <td>2020-06-10 00:00:00+00:00</td>\n",
       "      <td>AAPL</td>\n",
       "      <td>appl let user trade mac comput credit us, cana...</td>\n",
       "      <td>0.000000</td>\n",
       "      <td>06:27:11</td>\n",
       "      <td>2020-06-10</td>\n",
       "      <td>00:00:00</td>\n",
       "    </tr>\n",
       "  </tbody>\n",
       "</table>\n",
       "</div>"
      ],
      "text/plain": [
       "      Unnamed: 0                                           headline  \\\n",
       "6680        7120  Tech Stocks And FAANGS Strong Again To Start D...   \n",
       "6681        7121      10 Biggest Price Target Changes For Wednesday   \n",
       "6682        7122  Benzinga Pro's Top 5 Stocks To Watch For Wed.,...   \n",
       "6683        7123  Deutsche Bank Maintains Buy on Apple, Raises P...   \n",
       "6684        7124  Apple To Let Users Trade In Their Mac Computer...   \n",
       "\n",
       "                                                    url          publisher  \\\n",
       "6680  https://www.benzinga.com/government/20/06/1622...         JJ Kinahan   \n",
       "6681  https://www.benzinga.com/analyst-ratings/price...         Lisa Levin   \n",
       "6682  https://www.benzinga.com/short-sellers/20/06/1...  Benzinga Newsdesk   \n",
       "6683  https://www.benzinga.com/news/20/06/16219873/d...  Benzinga Newsdesk   \n",
       "6684  https://www.benzinga.com/news/20/06/16218697/a...      Neer Varshney   \n",
       "\n",
       "                          date stock  \\\n",
       "6680 2020-06-10 00:00:00+00:00  AAPL   \n",
       "6681 2020-06-10 00:00:00+00:00  AAPL   \n",
       "6682 2020-06-10 00:00:00+00:00  AAPL   \n",
       "6683 2020-06-10 00:00:00+00:00  AAPL   \n",
       "6684 2020-06-10 00:00:00+00:00  AAPL   \n",
       "\n",
       "                                       cleaned_headline  sentiment      time  \\\n",
       "6680  tech stock faang strong start day market await...   0.433333  11:33:26   \n",
       "6681            10 biggest price target chang wednesday   0.000000  08:14:08   \n",
       "6682  benzinga pro' top 5 stock watch wed., jun. 10,...   0.500000  07:53:47   \n",
       "6683  deutsch bank maintain buy apple, rais price ta...   0.000000  07:19:25   \n",
       "6684  appl let user trade mac comput credit us, cana...   0.000000  06:27:11   \n",
       "\n",
       "       date_only time_only  \n",
       "6680  2020-06-10  00:00:00  \n",
       "6681  2020-06-10  00:00:00  \n",
       "6682  2020-06-10  00:00:00  \n",
       "6683  2020-06-10  00:00:00  \n",
       "6684  2020-06-10  00:00:00  "
      ]
     },
     "execution_count": 77,
     "metadata": {},
     "output_type": "execute_result"
    }
   ],
   "source": [
    "df_news_filtered.head()"
   ]
  },
  {
   "cell_type": "code",
   "execution_count": 78,
   "metadata": {},
   "outputs": [
    {
     "data": {
      "text/html": [
       "<div>\n",
       "<style scoped>\n",
       "    .dataframe tbody tr th:only-of-type {\n",
       "        vertical-align: middle;\n",
       "    }\n",
       "\n",
       "    .dataframe tbody tr th {\n",
       "        vertical-align: top;\n",
       "    }\n",
       "\n",
       "    .dataframe thead th {\n",
       "        text-align: right;\n",
       "    }\n",
       "</style>\n",
       "<table border=\"1\" class=\"dataframe\">\n",
       "  <thead>\n",
       "    <tr style=\"text-align: right;\">\n",
       "      <th></th>\n",
       "      <th>Unnamed: 0</th>\n",
       "      <th>headline</th>\n",
       "      <th>url</th>\n",
       "      <th>publisher</th>\n",
       "      <th>date</th>\n",
       "      <th>stock</th>\n",
       "      <th>cleaned_headline</th>\n",
       "      <th>sentiment</th>\n",
       "      <th>time</th>\n",
       "      <th>date_only</th>\n",
       "      <th>time_only</th>\n",
       "    </tr>\n",
       "  </thead>\n",
       "  <tbody>\n",
       "    <tr>\n",
       "      <th>1255226</th>\n",
       "      <td>1261145</td>\n",
       "      <td>Tesla Shares Mark Session And New All-Time Hig...</td>\n",
       "      <td>https://www.benzinga.com/hot/20/06/16221958/te...</td>\n",
       "      <td>Benzinga Newsdesk</td>\n",
       "      <td>2020-06-10 00:00:00+00:00</td>\n",
       "      <td>TSLA</td>\n",
       "      <td>tesla share mark session new all-tim high $1,000</td>\n",
       "      <td>0.148182</td>\n",
       "      <td>09:58:54</td>\n",
       "      <td>2020-06-10</td>\n",
       "      <td>00:00:00</td>\n",
       "    </tr>\n",
       "    <tr>\n",
       "      <th>1255227</th>\n",
       "      <td>1261146</td>\n",
       "      <td>Wedbush Says Tesla Has 'Game Changing' Develop...</td>\n",
       "      <td>https://www.benzinga.com/analyst-ratings/analy...</td>\n",
       "      <td>Jayson Derrick</td>\n",
       "      <td>2020-06-10 00:00:00+00:00</td>\n",
       "      <td>TSLA</td>\n",
       "      <td>wedbush say tesla 'game changing' developments...</td>\n",
       "      <td>-0.400000</td>\n",
       "      <td>09:00:24</td>\n",
       "      <td>2020-06-10</td>\n",
       "      <td>00:00:00</td>\n",
       "    </tr>\n",
       "    <tr>\n",
       "      <th>1255228</th>\n",
       "      <td>1261147</td>\n",
       "      <td>Wedbush Maintains Neutral on Tesla, Raises Pri...</td>\n",
       "      <td>https://www.benzinga.com/news/20/06/16220834/w...</td>\n",
       "      <td>Benzinga Newsdesk</td>\n",
       "      <td>2020-06-10 00:00:00+00:00</td>\n",
       "      <td>TSLA</td>\n",
       "      <td>wedbush maintain neutral tesla, rais price tar...</td>\n",
       "      <td>0.000000</td>\n",
       "      <td>08:43:13</td>\n",
       "      <td>2020-06-10</td>\n",
       "      <td>00:00:00</td>\n",
       "    </tr>\n",
       "    <tr>\n",
       "      <th>1255229</th>\n",
       "      <td>1261148</td>\n",
       "      <td>Musk Says It's Time To Ramp Production Of Tesl...</td>\n",
       "      <td>https://www.benzinga.com/news/20/06/16220141/m...</td>\n",
       "      <td>Tanzeel Akhtar</td>\n",
       "      <td>2020-06-10 00:00:00+00:00</td>\n",
       "      <td>TSLA</td>\n",
       "      <td>musk say time ramp product tesla semi: report</td>\n",
       "      <td>0.000000</td>\n",
       "      <td>08:14:33</td>\n",
       "      <td>2020-06-10</td>\n",
       "      <td>00:00:00</td>\n",
       "    </tr>\n",
       "    <tr>\n",
       "      <th>1255230</th>\n",
       "      <td>1261149</td>\n",
       "      <td>Tesla shares are trading higher after Wedbush ...</td>\n",
       "      <td>https://www.benzinga.com/wiim/20/06/16220126/t...</td>\n",
       "      <td>Benzinga Newsdesk</td>\n",
       "      <td>2020-06-10 00:00:00+00:00</td>\n",
       "      <td>TSLA</td>\n",
       "      <td>tesla share trade higher wedbush rais price ta...</td>\n",
       "      <td>0.250000</td>\n",
       "      <td>07:55:49</td>\n",
       "      <td>2020-06-10</td>\n",
       "      <td>00:00:00</td>\n",
       "    </tr>\n",
       "  </tbody>\n",
       "</table>\n",
       "</div>"
      ],
      "text/plain": [
       "         Unnamed: 0                                           headline  \\\n",
       "1255226     1261145  Tesla Shares Mark Session And New All-Time Hig...   \n",
       "1255227     1261146  Wedbush Says Tesla Has 'Game Changing' Develop...   \n",
       "1255228     1261147  Wedbush Maintains Neutral on Tesla, Raises Pri...   \n",
       "1255229     1261148  Musk Says It's Time To Ramp Production Of Tesl...   \n",
       "1255230     1261149  Tesla shares are trading higher after Wedbush ...   \n",
       "\n",
       "                                                       url          publisher  \\\n",
       "1255226  https://www.benzinga.com/hot/20/06/16221958/te...  Benzinga Newsdesk   \n",
       "1255227  https://www.benzinga.com/analyst-ratings/analy...     Jayson Derrick   \n",
       "1255228  https://www.benzinga.com/news/20/06/16220834/w...  Benzinga Newsdesk   \n",
       "1255229  https://www.benzinga.com/news/20/06/16220141/m...     Tanzeel Akhtar   \n",
       "1255230  https://www.benzinga.com/wiim/20/06/16220126/t...  Benzinga Newsdesk   \n",
       "\n",
       "                             date stock  \\\n",
       "1255226 2020-06-10 00:00:00+00:00  TSLA   \n",
       "1255227 2020-06-10 00:00:00+00:00  TSLA   \n",
       "1255228 2020-06-10 00:00:00+00:00  TSLA   \n",
       "1255229 2020-06-10 00:00:00+00:00  TSLA   \n",
       "1255230 2020-06-10 00:00:00+00:00  TSLA   \n",
       "\n",
       "                                          cleaned_headline  sentiment  \\\n",
       "1255226   tesla share mark session new all-tim high $1,000   0.148182   \n",
       "1255227  wedbush say tesla 'game changing' developments...  -0.400000   \n",
       "1255228  wedbush maintain neutral tesla, rais price tar...   0.000000   \n",
       "1255229      musk say time ramp product tesla semi: report   0.000000   \n",
       "1255230  tesla share trade higher wedbush rais price ta...   0.250000   \n",
       "\n",
       "             time   date_only time_only  \n",
       "1255226  09:58:54  2020-06-10  00:00:00  \n",
       "1255227  09:00:24  2020-06-10  00:00:00  \n",
       "1255228  08:43:13  2020-06-10  00:00:00  \n",
       "1255229  08:14:33  2020-06-10  00:00:00  \n",
       "1255230  07:55:49  2020-06-10  00:00:00  "
      ]
     },
     "execution_count": 78,
     "metadata": {},
     "output_type": "execute_result"
    }
   ],
   "source": [
    "df_news_filtered.tail()\n",
    "\n"
   ]
  },
  {
   "cell_type": "markdown",
   "metadata": {},
   "source": [
    "## Visualization"
   ]
  },
  {
   "cell_type": "code",
   "execution_count": 80,
   "metadata": {},
   "outputs": [
    {
     "data": {
      "image/png": "[encoded data removed]",
      "text/plain": [
       "<Figure size 1000x600 with 1 Axes>"
      ]
     },
     "metadata": {},
     "output_type": "display_data"
    }
   ],
   "source": [
    "\n",
    "sns.set(style=\"whitegrid\")\n",
    "\n",
    "# Histogram of sentiment scores\n",
    "plt.figure(figsize=(10, 6))\n",
    "sns.histplot(df_news_filtered['sentiment'], bins=20, kde=True, color='skyblue')\n",
    "plt.title('Distribution of Sentiment Scores')\n",
    "plt.xlabel('Sentiment Score')\n",
    "plt.ylabel('Frequency')\n",
    "plt.show()"
   ]
  },
  {
   "cell_type": "markdown",
   "metadata": {},
   "source": [
    "### Sentiment Scores by Category"
   ]
  },
  {
   "cell_type": "code",
   "execution_count": 83,
   "metadata": {},
   "outputs": [
    {
     "name": "stderr",
     "output_type": "stream",
     "text": [
      "C:\\Users\\Admin\\AppData\\Local\\Temp\\ipykernel_15656\\2357371551.py:5: FutureWarning: \n",
      "\n",
      "Passing `palette` without assigning `hue` is deprecated and will be removed in v0.14.0. Assign the `x` variable to `hue` and set `legend=False` for the same effect.\n",
      "\n",
      "  sns.countplot(x='sentiment_category', data=df_news_filtered, palette='viridis')\n"
     ]
    },
    {
     "data": {
      "image/png": "[encoded data removed]",
      "text/plain": [
       "<Figure size 800x500 with 1 Axes>"
      ]
     },
     "metadata": {},
     "output_type": "display_data"
    }
   ],
   "source": [
    "df_news_filtered['sentiment_category'] = pd.cut(df_news_filtered['sentiment'], bins=[-1, -0.01, 0.01, 1], labels=['Negative', 'Neutral', 'Positive'])\n",
    "\n",
    "# Bar plot of sentiment categories\n",
    "plt.figure(figsize=(8, 5))\n",
    "sns.countplot(x='sentiment_category', data=df_news_filtered, palette='viridis')\n",
    "plt.title('Count of Headlines by Sentiment Category')\n",
    "plt.xlabel('Sentiment Category')\n",
    "plt.ylabel('Count')\n",
    "plt.show()"
   ]
  },
  {
   "cell_type": "markdown",
   "metadata": {},
   "source": [
    "# Correlation"
   ]
  },
  {
   "cell_type": "code",
   "execution_count": 84,
   "metadata": {},
   "outputs": [],
   "source": [
    "file_paths = {\n",
    "    'Apple': '../data/yfinance_data/AAPL_historical_data.csv',\n",
    "    'Amazon': '../data/yfinance_data/AMZN_historical_data.csv',\n",
    "    'Google': '../data/yfinance_data/GOOG_historical_data.csv',\n",
    "    'Meta': '../data/yfinance_data/META_historical_data.csv',\n",
    "    'Microsoft': '../data/yfinance_data/MSFT_historical_data.csv',\n",
    "    'Tesla': '../data/yfinance_data/TSLA_historical_data.csv',\n",
    "    'Nvidia': '../data/yfinance_data/NVDA_historical_data.csv'\n",
    "}"
   ]
  },
  {
   "cell_type": "markdown",
   "metadata": {},
   "source": [
    "### Merging the files"
   ]
  },
  {
   "cell_type": "code",
   "execution_count": 98,
   "metadata": {},
   "outputs": [],
   "source": [
    "data_frames = []\n",
    "for company, file_path in file_paths.items():\n",
    "    df = pd.read_csv(file_path)\n",
    "    df['Company'] = company  # Add a column for the company name\n",
    "    data_frames.append(df)\n",
    "\n",
    "# Merge all DataFrames into a single DataFrame\n",
    "merged_df = pd.concat(data_frames, ignore_index=True)\n",
    "required_columns = ['Open', 'High', 'Low', 'Close', 'Volume', 'Date', 'Company']\n",
    "\n",
    "if not all(col in merged_df.columns for col in required_columns):\n",
    "    raise ValueError('Data does not contain the required columns')\n",
    "\n",
    "# Convert the 'Date' column to datetime\n",
    "merged_df['Date'] = pd.to_datetime(merged_df['Date'], errors='coerce', utc=True)\n",
    "\n",
    "# Create separate 'date_only' and 'time_only' columns\n",
    "merged_df['date_only'] = merged_df['Date'].dt.date  # Extract the date\n",
    "merged_df['time_only'] = merged_df['Date'].dt.time  # Extract the time\n",
    "merged_df.drop(columns=['Date'], inplace=True)\n",
    "\n",
    "# Optionally, drop rows with NaT values if there are any\n",
    "merged_df.dropna(subset=['date_only', 'time_only'], inplace=True)"
   ]
  },
  {
   "cell_type": "code",
   "execution_count": 101,
   "metadata": {},
   "outputs": [
    {
     "data": {
      "text/html": [
       "<div>\n",
       "<style scoped>\n",
       "    .dataframe tbody tr th:only-of-type {\n",
       "        vertical-align: middle;\n",
       "    }\n",
       "\n",
       "    .dataframe tbody tr th {\n",
       "        vertical-align: top;\n",
       "    }\n",
       "\n",
       "    .dataframe thead th {\n",
       "        text-align: right;\n",
       "    }\n",
       "</style>\n",
       "<table border=\"1\" class=\"dataframe\">\n",
       "  <thead>\n",
       "    <tr style=\"text-align: right;\">\n",
       "      <th></th>\n",
       "      <th>Open</th>\n",
       "      <th>High</th>\n",
       "      <th>Low</th>\n",
       "      <th>Close</th>\n",
       "      <th>Adj Close</th>\n",
       "      <th>Volume</th>\n",
       "      <th>Dividends</th>\n",
       "      <th>Stock Splits</th>\n",
       "      <th>Company</th>\n",
       "      <th>date_only</th>\n",
       "      <th>time_only</th>\n",
       "    </tr>\n",
       "  </thead>\n",
       "  <tbody>\n",
       "    <tr>\n",
       "      <th>0</th>\n",
       "      <td>0.128348</td>\n",
       "      <td>0.128906</td>\n",
       "      <td>0.128348</td>\n",
       "      <td>0.128348</td>\n",
       "      <td>0.098943</td>\n",
       "      <td>469033600</td>\n",
       "      <td>0.0</td>\n",
       "      <td>0.0</td>\n",
       "      <td>Apple</td>\n",
       "      <td>1980-12-12</td>\n",
       "      <td>00:00:00</td>\n",
       "    </tr>\n",
       "    <tr>\n",
       "      <th>1</th>\n",
       "      <td>0.122210</td>\n",
       "      <td>0.122210</td>\n",
       "      <td>0.121652</td>\n",
       "      <td>0.121652</td>\n",
       "      <td>0.093781</td>\n",
       "      <td>175884800</td>\n",
       "      <td>0.0</td>\n",
       "      <td>0.0</td>\n",
       "      <td>Apple</td>\n",
       "      <td>1980-12-15</td>\n",
       "      <td>00:00:00</td>\n",
       "    </tr>\n",
       "    <tr>\n",
       "      <th>2</th>\n",
       "      <td>0.113281</td>\n",
       "      <td>0.113281</td>\n",
       "      <td>0.112723</td>\n",
       "      <td>0.112723</td>\n",
       "      <td>0.086898</td>\n",
       "      <td>105728000</td>\n",
       "      <td>0.0</td>\n",
       "      <td>0.0</td>\n",
       "      <td>Apple</td>\n",
       "      <td>1980-12-16</td>\n",
       "      <td>00:00:00</td>\n",
       "    </tr>\n",
       "    <tr>\n",
       "      <th>3</th>\n",
       "      <td>0.115513</td>\n",
       "      <td>0.116071</td>\n",
       "      <td>0.115513</td>\n",
       "      <td>0.115513</td>\n",
       "      <td>0.089049</td>\n",
       "      <td>86441600</td>\n",
       "      <td>0.0</td>\n",
       "      <td>0.0</td>\n",
       "      <td>Apple</td>\n",
       "      <td>1980-12-17</td>\n",
       "      <td>00:00:00</td>\n",
       "    </tr>\n",
       "    <tr>\n",
       "      <th>4</th>\n",
       "      <td>0.118862</td>\n",
       "      <td>0.119420</td>\n",
       "      <td>0.118862</td>\n",
       "      <td>0.118862</td>\n",
       "      <td>0.091630</td>\n",
       "      <td>73449600</td>\n",
       "      <td>0.0</td>\n",
       "      <td>0.0</td>\n",
       "      <td>Apple</td>\n",
       "      <td>1980-12-18</td>\n",
       "      <td>00:00:00</td>\n",
       "    </tr>\n",
       "  </tbody>\n",
       "</table>\n",
       "</div>"
      ],
      "text/plain": [
       "       Open      High       Low     Close  Adj Close     Volume  Dividends  \\\n",
       "0  0.128348  0.128906  0.128348  0.128348   0.098943  469033600        0.0   \n",
       "1  0.122210  0.122210  0.121652  0.121652   0.093781  175884800        0.0   \n",
       "2  0.113281  0.113281  0.112723  0.112723   0.086898  105728000        0.0   \n",
       "3  0.115513  0.116071  0.115513  0.115513   0.089049   86441600        0.0   \n",
       "4  0.118862  0.119420  0.118862  0.118862   0.091630   73449600        0.0   \n",
       "\n",
       "   Stock Splits Company   date_only time_only  \n",
       "0           0.0   Apple  1980-12-12  00:00:00  \n",
       "1           0.0   Apple  1980-12-15  00:00:00  \n",
       "2           0.0   Apple  1980-12-16  00:00:00  \n",
       "3           0.0   Apple  1980-12-17  00:00:00  \n",
       "4           0.0   Apple  1980-12-18  00:00:00  "
      ]
     },
     "execution_count": 101,
     "metadata": {},
     "output_type": "execute_result"
    }
   ],
   "source": [
    "merged_df.head()"
   ]
  },
  {
   "cell_type": "code",
   "execution_count": 102,
   "metadata": {},
   "outputs": [
    {
     "name": "stdout",
     "output_type": "stream",
     "text": [
      "           sentiment      Open      High       Low     Close    Volume\n",
      "sentiment   1.000000  0.006952  0.006566  0.006062  0.004571  0.028074\n",
      "Open        0.006952  1.000000  0.999645  0.999866  0.999409 -0.717193\n",
      "High        0.006566  0.999645  1.000000  0.999875  0.999884 -0.716877\n",
      "Low         0.006062  0.999866  0.999875  1.000000  0.999776 -0.719742\n",
      "Close       0.004571  0.999409  0.999884  0.999776  1.000000 -0.717935\n",
      "Volume      0.028074 -0.717193 -0.716877 -0.719742 -0.717935  1.000000\n"
     ]
    }
   ],
   "source": [
    "df_news_filtered['date_only'] = pd.to_datetime(df_news_filtered['date_only'])\n",
    "merged_df['date_only'] = pd.to_datetime(merged_df['date_only'])\n",
    "\n",
    "# Merge the DataFrames on the 'date_only' column\n",
    "combined_df = pd.merge(df_news_filtered, merged_df, on='date_only', how='inner')\n",
    "\n",
    "# Drop rows with missing values if necessary\n",
    "combined_df.dropna(subset=['sentiment', 'Open', 'High', 'Low', 'Close', 'Volume'], inplace=True)\n",
    "\n",
    "# Calculate correlation between sentiment and stock metrics\n",
    "correlation_results = combined_df[['sentiment', 'Open', 'High', 'Low', 'Close', 'Volume']].corr()\n",
    "\n",
    "print(correlation_results)"
   ]
  },
  {
   "cell_type": "code",
   "execution_count": 105,
   "metadata": {},
   "outputs": [
    {
     "name": "stdout",
     "output_type": "stream",
     "text": [
      "Columns in DataFrame: Index(['Open', 'High', 'Low', 'Close', 'Adj Close', 'Volume', 'Dividends',\n",
      "       'Stock Splits', 'Company', 'date_only', 'time_only'],\n",
      "      dtype='object')\n"
     ]
    },
    {
     "data": {
      "image/png": "[encoded data removed]",
      "text/plain": [
       "<Figure size 1000x800 with 2 Axes>"
      ]
     },
     "metadata": {},
     "output_type": "display_data"
    }
   ],
   "source": [
    "\n",
    "\n",
    "print(\"Columns in DataFrame:\", merged_df.columns)\n",
    "required_columns = ['sentiment', 'Open', 'High', 'Low', 'Close', 'Volume']\n",
    "existing_columns = [col for col in required_columns if col in merged_df.columns]\n",
    "\n",
    "# Calculate the correlation matrix only with existing columns\n",
    "corr_matrix = merged_df[existing_columns].corr()\n",
    "plt.figure(figsize=(10, 8))\n",
    "sns.heatmap(corr_matrix, annot=True, fmt='.2f', cmap='coolwarm', center=0, square=True, linewidths=0.5)\n",
    "\n",
    "# Set titles and labels\n",
    "plt.title('Correlation Matrix Heatmap', fontsize=16)\n",
    "plt.show()\n"
   ]
  }
 ],
 "metadata": {
  "kernelspec": {
   "display_name": "venv",
   "language": "python",
   "name": "python3"
  },
  "language_info": {
   "codemirror_mode": {
    "name": "ipython",
    "version": 3
   },
   "file_extension": ".py",
   "mimetype": "text/x-python",
   "name": "python",
   "nbconvert_exporter": "python",
   "pygments_lexer": "ipython3",
   "version": "3.12.5"
  }
 },
 "nbformat": 4,
 "nbformat_minor": 2
}
